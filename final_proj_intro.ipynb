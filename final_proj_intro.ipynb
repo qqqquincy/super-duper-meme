{
 "cells": [
  {
   "cell_type": "markdown",
   "metadata": {},
   "source": [
    "# Solving PDEs with DGM (Deep Galerkin Method)\n",
    "High-dimensional PDEs have been a longstanding computational challenge. In my final project I'd like to solve 2 classes of (high-dimensional) PDEs by approximating the solution $u(t,x)$ with some **deep neural network** $f(t,x;\\theta)$ which is trained to satisfy the **differential operator**, **initial conditions**, and **boundary conditions**. The approximated solution may be compared with the \"exact solution\" found via finite difference.\n",
    "\n",
    "Here are some basic ideas of DGM:\n",
    "\n",
    "* Construct NN (Start with a set of weights/biases $\\theta$ ).\n",
    "* Generate a considerable amount of random points from the **domain of interest**, the **initial conditions**, and the **boundary conditions**. \n",
    "* The **input** of NN is $(t,x)$; the **output** of NN is $f(t,x,\\theta)$.\n",
    "* Implement an appropriate loss function $L(\\theta)$ such that the NN will be trained to satisfy the **differential operator**, **initial conditions**, and **boundary conditions** if $L$ is minimized.\n",
    "\n",
    "# 1. typical boundary value problem\n",
    "The boundary is fixed with time. However, it is often of interest to find the solution of a PDE over a range of problem setups (e.g., solving a PDE within a range of physical conditions and boundary conditions).\n",
    "\n",
    "DGM is a mesh-free PDE-solving algorithm, while the traditional approach is to discretize the \"setup space\" and re-solve the PDE many times for many different points (The total number of grid points grows exponentially with the number of dimensions!).\n",
    "#### target PDE: Burgers' equation \n",
    "$$\\frac { \\partial u }{ \\partial t } =\\nu \\frac { { \\partial  }^{ 2 }u }{ { \\partial x }^{ 2 } } -\\alpha u\\frac { \\partial u }{ \\partial x } $$\n",
    "\n",
    "The goal is to solve the equation within some range of $\\nu$ and $\\alpha$.\n",
    "\n",
    "# 2. free boundary value problem\n",
    "The domain where PDE holds is unknown (or maybe varying with time). The most classical example is the melting of ice: \n",
    "\n",
    "Given a block of ice, one can solve the heat equation given appropriate initial and boundary conditions to determine its temperature. But if in any region the temperature is greater than the melting point of ice, this domain will be occupied by liquid water instead. The boundary formed from the ice/liquid interface is controlled dynamically by the solution of the PDE.\n",
    "#### target PDE: the heat equation in a one-phase Stefan problem\n",
    "$$\\frac { \\partial u }{ \\partial t } = \\frac { { \\partial  }^{ 2 }u }{ { \\partial x }^{ 2 } }$$\n",
    "\n",
    "The goal is to find the temperature field $u(x,t)$ and the melted depth of the ice block $s(t)$. "
   ]
  },
  {
   "cell_type": "code",
   "execution_count": null,
   "metadata": {},
   "outputs": [],
   "source": []
  }
 ],
 "metadata": {
  "kernelspec": {
   "display_name": "Python 3",
   "language": "python",
   "name": "python3"
  },
  "language_info": {
   "codemirror_mode": {
    "name": "ipython",
    "version": 3
   },
   "file_extension": ".py",
   "mimetype": "text/x-python",
   "name": "python",
   "nbconvert_exporter": "python",
   "pygments_lexer": "ipython3",
   "version": "3.6.8"
  }
 },
 "nbformat": 4,
 "nbformat_minor": 2
}
