{
 "cells": [
  {
   "cell_type": "code",
   "execution_count": 1,
   "metadata": {},
   "outputs": [
    {
     "name": "stderr",
     "output_type": "stream",
     "text": [
      "Using TensorFlow backend.\n"
     ]
    }
   ],
   "source": [
    "%matplotlib inline\n",
    "import numpy as np\n",
    "import matplotlib.pyplot as plt\n",
    "\n",
    "from keras.datasets import mnist\n",
    "from keras.utils import np_utils\n",
    "from keras.models import Sequential\n",
    "from keras.layers import Dense, Activation\n",
    "from keras.optimizers import Adam"
   ]
  },
  {
   "cell_type": "markdown",
   "metadata": {},
   "source": [
    "# 輸入、輸出資料整理"
   ]
  },
  {
   "cell_type": "code",
   "execution_count": 2,
   "metadata": {},
   "outputs": [],
   "source": [
    "(X_train,Y_train), (X_test,Y_test) = mnist.load_data()\n",
    "\n",
    "x_train = X_train.reshape(60000,28*28)/255\n",
    "x_test = X_test.reshape(10000,28*28)/255\n",
    "\n",
    "y_train = np_utils.to_categorical(Y_train,10) \n",
    "y_test = np_utils.to_categorical(Y_test,10)"
   ]
  },
  {
   "cell_type": "markdown",
   "metadata": {},
   "source": [
    "# 建構 NN \n",
    "* 4 個 hidden layers\n",
    "* 每個 hidden ladyer 都有 520 個神經元\n",
    "* activation function 使用 relu、loss function 使用 MSE、optimizer 使用 Adam"
   ]
  },
  {
   "cell_type": "code",
   "execution_count": 3,
   "metadata": {},
   "outputs": [
    {
     "name": "stdout",
     "output_type": "stream",
     "text": [
      "_________________________________________________________________\n",
      "Layer (type)                 Output Shape              Param #   \n",
      "=================================================================\n",
      "dense_1 (Dense)              (None, 520)               408200    \n",
      "_________________________________________________________________\n",
      "activation_1 (Activation)    (None, 520)               0         \n",
      "_________________________________________________________________\n",
      "dense_2 (Dense)              (None, 520)               270920    \n",
      "_________________________________________________________________\n",
      "activation_2 (Activation)    (None, 520)               0         \n",
      "_________________________________________________________________\n",
      "dense_3 (Dense)              (None, 520)               270920    \n",
      "_________________________________________________________________\n",
      "activation_3 (Activation)    (None, 520)               0         \n",
      "_________________________________________________________________\n",
      "dense_4 (Dense)              (None, 520)               270920    \n",
      "_________________________________________________________________\n",
      "activation_4 (Activation)    (None, 520)               0         \n",
      "_________________________________________________________________\n",
      "dense_5 (Dense)              (None, 10)                5210      \n",
      "_________________________________________________________________\n",
      "activation_5 (Activation)    (None, 10)                0         \n",
      "=================================================================\n",
      "Total params: 1,226,170\n",
      "Trainable params: 1,226,170\n",
      "Non-trainable params: 0\n",
      "_________________________________________________________________\n"
     ]
    }
   ],
   "source": [
    "model = Sequential()\n",
    "\n",
    "model.add(Dense(520,input_dim=28*28))\n",
    "model.add(Activation('relu'))\n",
    "\n",
    "model.add(Dense(520))\n",
    "model.add(Activation('relu'))\n",
    "\n",
    "model.add(Dense(520))\n",
    "model.add(Activation('relu'))\n",
    "\n",
    "model.add(Dense(520))\n",
    "model.add(Activation('relu'))\n",
    "\n",
    "model.add(Dense(10))\n",
    "model.add(Activation('softmax'))\n",
    "\n",
    "model.compile(loss='mse', optimizer=Adam(), metrics=['accuracy'])\n",
    "model.summary()"
   ]
  },
  {
   "cell_type": "code",
   "execution_count": 4,
   "metadata": {},
   "outputs": [
    {
     "name": "stdout",
     "output_type": "stream",
     "text": [
      "Epoch 1/20\n",
      "60000/60000 [==============================] - 23s 378us/step - loss: 0.0121 - acc: 0.9179\n",
      "Epoch 2/20\n",
      "60000/60000 [==============================] - 24s 400us/step - loss: 0.0051 - acc: 0.9672\n",
      "Epoch 3/20\n",
      "60000/60000 [==============================] - 25s 424us/step - loss: 0.0039 - acc: 0.9752\n",
      "Epoch 4/20\n",
      "60000/60000 [==============================] - 22s 365us/step - loss: 0.0032 - acc: 0.9800\n",
      "Epoch 5/20\n",
      "60000/60000 [==============================] - 15s 258us/step - loss: 0.0026 - acc: 0.9831\n",
      "Epoch 6/20\n",
      "60000/60000 [==============================] - 16s 265us/step - loss: 0.0025 - acc: 0.9842\n",
      "Epoch 7/20\n",
      "60000/60000 [==============================] - 15s 256us/step - loss: 0.0023 - acc: 0.9858\n",
      "Epoch 8/20\n",
      "60000/60000 [==============================] - 16s 260us/step - loss: 0.0020 - acc: 0.9879\n",
      "Epoch 9/20\n",
      "60000/60000 [==============================] - 15s 253us/step - loss: 0.0019 - acc: 0.9881\n",
      "Epoch 10/20\n",
      "60000/60000 [==============================] - 16s 259us/step - loss: 0.0023 - acc: 0.9861\n",
      "Epoch 11/20\n",
      "60000/60000 [==============================] - 16s 262us/step - loss: 0.0018 - acc: 0.9890\n",
      "Epoch 12/20\n",
      "60000/60000 [==============================] - 16s 263us/step - loss: 0.0014 - acc: 0.9915\n",
      "Epoch 13/20\n",
      "60000/60000 [==============================] - 16s 262us/step - loss: 0.0014 - acc: 0.9914\n",
      "Epoch 14/20\n",
      "60000/60000 [==============================] - 16s 262us/step - loss: 0.0015 - acc: 0.9912\n",
      "Epoch 15/20\n",
      "60000/60000 [==============================] - 16s 266us/step - loss: 0.0016 - acc: 0.9904\n",
      "Epoch 16/20\n",
      "60000/60000 [==============================] - 16s 260us/step - loss: 0.0013 - acc: 0.9920\n",
      "Epoch 17/20\n",
      "60000/60000 [==============================] - 16s 259us/step - loss: 0.0013 - acc: 0.9925\n",
      "Epoch 18/20\n",
      "60000/60000 [==============================] - 15s 258us/step - loss: 0.0017 - acc: 0.9901\n",
      "Epoch 19/20\n",
      "60000/60000 [==============================] - 16s 266us/step - loss: 0.0011 - acc: 0.9931\n",
      "Epoch 20/20\n",
      "60000/60000 [==============================] - 16s 270us/step - loss: 0.0011 - acc: 0.9934\n"
     ]
    },
    {
     "data": {
      "text/plain": [
       "<keras.callbacks.History at 0xb27bcad68>"
      ]
     },
     "execution_count": 4,
     "metadata": {},
     "output_type": "execute_result"
    }
   ],
   "source": [
    "model.fit(x_train, y_train, batch_size=200, epochs=20)"
   ]
  },
  {
   "cell_type": "code",
   "execution_count": 5,
   "metadata": {},
   "outputs": [
    {
     "name": "stdout",
     "output_type": "stream",
     "text": [
      "10000/10000 [==============================] - 1s 149us/step\n",
      "testing data 的正確率： 0.9819\n"
     ]
    }
   ],
   "source": [
    "predict = model.predict_classes(x_test)\n",
    "score = model.evaluate(x_test, y_test)\n",
    "print('testing data 的正確率：', score[1])"
   ]
  },
  {
   "cell_type": "markdown",
   "metadata": {},
   "source": [
    "# 看看哪些字寫得很醜"
   ]
  },
  {
   "cell_type": "code",
   "execution_count": 6,
   "metadata": {},
   "outputs": [
    {
     "data": {
      "image/png": "[encoded data removed]",
      "text/plain": [
       "<Figure size 800x400 with 10 Axes>"
      ]
     },
     "metadata": {
      "needs_background": "light"
     },
     "output_type": "display_data"
    }
   ],
   "source": [
    "fail_img = X_test[predict!=Y_test]\n",
    "fail_predict = predict[predict!=Y_test]\n",
    "correct_ans = Y_test[predict!=Y_test]\n",
    "\n",
    "idx = np.random.choice(range(fail_predict.size), size=10, replace=False) #隨機選10個預測錯誤的例子\n",
    "\n",
    "plt.figure(figsize=(10,5), dpi=80)\n",
    "for i in range(10):\n",
    "    plt.subplot(2,5,i+1)\n",
    "    plt.imshow(fail_img[idx[i]], cmap='Greys')\n",
    "    plt.title('Predict: %d\\nCorrect Ans: %d' %(fail_predict[idx[i]], correct_ans[idx[i]]))\n",
    "    \n",
    "plt.tight_layout()\n",
    "plt.show()"
   ]
  },
  {
   "cell_type": "code",
   "execution_count": 7,
   "metadata": {},
   "outputs": [],
   "source": [
    "model.save_weights('7-1_weights.h5')"
   ]
  },
  {
   "cell_type": "code",
   "execution_count": null,
   "metadata": {},
   "outputs": [],
   "source": []
  }
 ],
 "metadata": {
  "kernelspec": {
   "display_name": "Python 3",
   "language": "python",
   "name": "python3"
  },
  "language_info": {
   "codemirror_mode": {
    "name": "ipython",
    "version": 3
   },
   "file_extension": ".py",
   "mimetype": "text/x-python",
   "name": "python",
   "nbconvert_exporter": "python",
   "pygments_lexer": "ipython3",
   "version": "3.6.8"
  }
 },
 "nbformat": 4,
 "nbformat_minor": 2
}
