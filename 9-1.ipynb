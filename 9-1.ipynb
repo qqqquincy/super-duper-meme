{
 "cells": [
  {
   "cell_type": "code",
   "execution_count": 1,
   "metadata": {},
   "outputs": [
    {
     "name": "stderr",
     "output_type": "stream",
     "text": [
      "Using TensorFlow backend.\n"
     ]
    }
   ],
   "source": [
    "%matplotlib inline\n",
    "import numpy as np\n",
    "import matplotlib.pyplot as plt\n",
    "\n",
    "from keras.datasets import mnist\n",
    "from keras.utils import np_utils\n",
    "from keras.models import Model\n",
    "from keras.layers import Input\n",
    "from keras.layers import Dense, Flatten\n",
    "from keras.layers import Conv2D, MaxPool2D\n",
    "from keras.optimizers import Adam"
   ]
  },
  {
   "cell_type": "markdown",
   "metadata": {},
   "source": [
    "# 輸入、輸出資料整理"
   ]
  },
  {
   "cell_type": "code",
   "execution_count": 2,
   "metadata": {},
   "outputs": [],
   "source": [
    "(X_train,Y_train), (X_test,Y_test) = mnist.load_data()\n",
    "\n",
    "x_train = X_train.reshape(60000,28,28,1)/255\n",
    "x_test = X_test.reshape(10000,28,28,1)/255\n",
    "\n",
    "y_train = np_utils.to_categorical(Y_train,10) \n",
    "y_test = np_utils.to_categorical(Y_test,10)"
   ]
  },
  {
   "cell_type": "markdown",
   "metadata": {},
   "source": [
    "# 利用 Functional API 建構 CNN \n",
    "* 做 **2 次** convolution，最後再接上 **2 次** max-pooling。\n",
    "* filter 大小都是 $3\\times3$、個數分別為 32、64 個 ，max-pooling 都用 $2\\times2$ 為一小區塊。\n",
    "* 最後再接 **1 個** dense 層，使用 **200 個**神經元。\n",
    "* activation function 使用 relu；loss function 使用 categorical cross-entropy；optimizer 使用 Adam。\n",
    "\n",
    "$${ \\mathbb R }^{ 28\\times 28 }\\,\\overset { { C }onv_{ 1 } }{ \\longrightarrow  } \\,{\\mathbb R }^{ (28\\times 28)\\times 32 }\\,\\overset { { Conv }_{ 2 } }{ \\longrightarrow  } \\,{\\mathbb R }^{ (28\\times 28)\\times 64 }\\,\\overset { { Pool }_{ 1 } }{ \\longrightarrow  } \\,{\\mathbb R }^{ (14\\times 14)\\times 64 }\\,\\overset { { Pool }_{ 2 } }{ \\longrightarrow  } \\,{\\mathbb R }^{ (7\\times 7)\\times 64 }\\,\\overset {\\mathrm {flatten} }{ \\longrightarrow  } \\,{\\mathbb R }^{ 3136 }\\,\\overset { { f }_{ 1 } }{ \\longrightarrow  } \\,{\\mathbb R }^{ 200 }\\,\\overset { { f }_{ 2 } }{ \\longrightarrow  } \\,{\\mathbb R }^{ 10 }$$"
   ]
  },
  {
   "cell_type": "code",
   "execution_count": 3,
   "metadata": {},
   "outputs": [
    {
     "name": "stdout",
     "output_type": "stream",
     "text": [
      "_________________________________________________________________\n",
      "Layer (type)                 Output Shape              Param #   \n",
      "=================================================================\n",
      "input_1 (InputLayer)         (None, 28, 28, 1)         0         \n",
      "_________________________________________________________________\n",
      "conv2d_1 (Conv2D)            (None, 28, 28, 32)        320       \n",
      "_________________________________________________________________\n",
      "conv2d_2 (Conv2D)            (None, 28, 28, 64)        18496     \n",
      "_________________________________________________________________\n",
      "max_pooling2d_1 (MaxPooling2 (None, 14, 14, 64)        0         \n",
      "_________________________________________________________________\n",
      "max_pooling2d_2 (MaxPooling2 (None, 7, 7, 64)          0         \n",
      "_________________________________________________________________\n",
      "flatten_1 (Flatten)          (None, 3136)              0         \n",
      "_________________________________________________________________\n",
      "dense_1 (Dense)              (None, 200)               627400    \n",
      "_________________________________________________________________\n",
      "dense_2 (Dense)              (None, 10)                2010      \n",
      "=================================================================\n",
      "Total params: 648,226\n",
      "Trainable params: 648,226\n",
      "Non-trainable params: 0\n",
      "_________________________________________________________________\n"
     ]
    }
   ],
   "source": [
    "Conv1 = Conv2D(32, (3,3), padding='same', activation='relu')\n",
    "Conv2 = Conv2D(64, (3,3), padding='same', activation='relu')\n",
    "Pool1 = MaxPool2D(pool_size=(2,2))\n",
    "Pool2 = MaxPool2D(pool_size=(2,2))\n",
    "flatten = Flatten()\n",
    "f1 = Dense(200, activation='relu')\n",
    "f2 = Dense(10, activation='softmax')\n",
    "\n",
    "x = Input(shape=(28,28,1))\n",
    "z1 = Pool2(Pool1(Conv2(Conv1(x))))\n",
    "z2 = flatten(z1)\n",
    "y = f2(f1(z2))\n",
    "\n",
    "model = Model(x,y)\n",
    "model.summary()"
   ]
  },
  {
   "cell_type": "code",
   "execution_count": 4,
   "metadata": {},
   "outputs": [
    {
     "name": "stdout",
     "output_type": "stream",
     "text": [
      "Epoch 1/5\n",
      "60000/60000 [==============================] - 249s 4ms/step - loss: 0.5523 - acc: 0.8501\n",
      "Epoch 2/5\n",
      "60000/60000 [==============================] - 240s 4ms/step - loss: 0.1147 - acc: 0.9658\n",
      "Epoch 3/5\n",
      "60000/60000 [==============================] - 227s 4ms/step - loss: 0.0696 - acc: 0.9791\n",
      "Epoch 4/5\n",
      "60000/60000 [==============================] - 246s 4ms/step - loss: 0.0518 - acc: 0.9848\n",
      "Epoch 5/5\n",
      "60000/60000 [==============================] - 210s 4ms/step - loss: 0.0410 - acc: 0.9877\n"
     ]
    },
    {
     "data": {
      "text/plain": [
       "<keras.callbacks.History at 0xb2203ea20>"
      ]
     },
     "execution_count": 4,
     "metadata": {},
     "output_type": "execute_result"
    }
   ],
   "source": [
    "model.compile(loss='categorical_crossentropy', optimizer=Adam(), metrics=['acc']) \n",
    "model.fit(x_train, y_train, batch_size=1000, epochs=5)"
   ]
  },
  {
   "cell_type": "code",
   "execution_count": 5,
   "metadata": {},
   "outputs": [
    {
     "name": "stdout",
     "output_type": "stream",
     "text": [
      "10000/10000 [==============================] - 11s 1ms/step\n",
      "testing data 的正確率： 0.9868\n"
     ]
    }
   ],
   "source": [
    "predict = np.argmax(model.predict(x_test), axis=1)\n",
    "score = model.evaluate(x_test, y_test)\n",
    "print('testing data 的正確率：', score[1])"
   ]
  },
  {
   "cell_type": "markdown",
   "metadata": {},
   "source": [
    "# 看看哪些字寫得很醜"
   ]
  },
  {
   "cell_type": "code",
   "execution_count": 6,
   "metadata": {},
   "outputs": [
    {
     "data": {
      "image/png": "[encoded data removed]",
      "text/plain": [
       "<Figure size 800x400 with 10 Axes>"
      ]
     },
     "metadata": {
      "needs_background": "light"
     },
     "output_type": "display_data"
    }
   ],
   "source": [
    "fail_img = X_test[predict!=Y_test]\n",
    "fail_predict = predict[predict!=Y_test]\n",
    "correct_ans = Y_test[predict!=Y_test]\n",
    "\n",
    "idx = np.random.choice(range(fail_predict.size), size=10, replace=False) #隨機選10個預測錯誤的例子\n",
    "\n",
    "plt.figure(figsize=(10,5), dpi=80)\n",
    "for i in range(10):\n",
    "    plt.subplot(2,5,i+1)\n",
    "    plt.imshow(fail_img[idx[i]], cmap='Greys')\n",
    "    plt.title('Predict: %d\\nCorrect Ans: %d' %(fail_predict[idx[i]], correct_ans[idx[i]]))\n",
    "    \n",
    "plt.tight_layout()\n",
    "plt.show()"
   ]
  },
  {
   "cell_type": "code",
   "execution_count": null,
   "metadata": {},
   "outputs": [],
   "source": []
  }
 ],
 "metadata": {
  "kernelspec": {
   "display_name": "Python 3",
   "language": "python",
   "name": "python3"
  },
  "language_info": {
   "codemirror_mode": {
    "name": "ipython",
    "version": 3
   },
   "file_extension": ".py",
   "mimetype": "text/x-python",
   "name": "python",
   "nbconvert_exporter": "python",
   "pygments_lexer": "ipython3",
   "version": "3.6.8"
  }
 },
 "nbformat": 4,
 "nbformat_minor": 2
}
