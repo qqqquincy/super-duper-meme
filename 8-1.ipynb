{
 "cells": [
  {
   "cell_type": "code",
   "execution_count": 1,
   "metadata": {},
   "outputs": [
    {
     "name": "stderr",
     "output_type": "stream",
     "text": [
      "Using TensorFlow backend.\n"
     ]
    }
   ],
   "source": [
    "%matplotlib inline\n",
    "import numpy as np\n",
    "import matplotlib.pyplot as plt\n",
    "\n",
    "from keras.datasets import mnist\n",
    "from keras.utils import np_utils\n",
    "from keras.layers import Dense\n",
    "from keras.optimizers import Adam\n",
    "from keras.models import Model\n",
    "from keras.layers import Input\n",
    "from keras.layers import concatenate"
   ]
  },
  {
   "cell_type": "markdown",
   "metadata": {},
   "source": [
    "# 輸入、輸出資料整理"
   ]
  },
  {
   "cell_type": "code",
   "execution_count": 2,
   "metadata": {},
   "outputs": [
    {
     "name": "stdout",
     "output_type": "stream",
     "text": [
      "共有 60000 筆大小為 28*28 的訓練資料。\n",
      "共有 10000 筆大小為 28*28 的測試資料。\n",
      "\n",
      "x_train 標準化後的最大值為 1、最小值為 0。\n",
      "x_test 標準化後的最大值為 1、最小值為 0。\n"
     ]
    }
   ],
   "source": [
    "(X_train,Y_train), (X_test,Y_test) = mnist.load_data()\n",
    "\n",
    "print(\"共有 %d 筆大小為 %d*%d 的訓練資料。\" %X_train.shape)\n",
    "print(\"共有 %d 筆大小為 %d*%d 的測試資料。\\n\" %X_test.shape)\n",
    "\n",
    "x_train = X_train.reshape(60000, -1)\n",
    "x_test = X_test.reshape(10000, -1)\n",
    "\n",
    "x_train = (x_train-x_train.min())/x_train.max()\n",
    "x_test = (x_test-x_test.min())/x_test.max()\n",
    "print('x_train 標準化後的最大值為 %g、最小值為 %g。' %(x_train.max(),x_train.min()))\n",
    "print('x_test 標準化後的最大值為 %g、最小值為 %g。' %(x_test.max(),x_test.min()))\n",
    "\n",
    "y_train = np_utils.to_categorical(Y_train,10) \n",
    "y_test = np_utils.to_categorical(Y_test,10)"
   ]
  },
  {
   "cell_type": "markdown",
   "metadata": {},
   "source": [
    "# 利用 Functional API 建構 NN \n",
    "* 3 層 hidden layers\n",
    "* activation function 使用 relu、loss function 使用 MSE、optimizer 使用 Adam\n",
    "* 第 2、3 層 hidden layers 具有分支，如下所示\n",
    "\n",
    "$$\\mathbb{ R }^{ 784 }\\overset { { f }_{ 1 } }{ \\longrightarrow  } \\mathbb{ R }^{ 520 }\\begin{Bmatrix} \\overset { { f }_{ 2 } }{ \\longrightarrow  } \\mathbb{ R }^{ 250 }\\begin{Bmatrix} \\overset { { f }_{ 4 } }{ \\longrightarrow  } \\mathbb{ R }^{ 100 } \\\\ \\overset { { f }_{ 5 } }{ \\longrightarrow  } \\mathbb{ R }^{ 200 } \\end{Bmatrix} \\\\ \\overset { { f }_{ 3 } }{ \\longrightarrow  } \\mathbb{ R }^{ 250 }\\begin{Bmatrix} \\overset { { f }_{ 6 } }{ \\longrightarrow  } \\mathbb{ R }^{ 300 } \\\\ \\overset { { f }_{ 7 } }{ \\longrightarrow  } \\mathbb{ R }^{ 400 } \\\\ \\overset { { f }_{ 8 } }{ \\longrightarrow  } \\mathbb{ R }^{ 500 } \\end{Bmatrix} \\end{Bmatrix}\\overset {\\rm direct }{ \\underset {\\rm sum }{ \\longrightarrow  }  } \\mathbb{ R }^{ 1500 }\\overset { { f }_{ 9 } }{ \\longrightarrow  } \\mathbb{ R }^{ 10 }$$\n",
    "\n",
    "$$x\\overset { { f }_{ 1 } }{ \\longmapsto  } { z }_{ 1 }\\begin{Bmatrix} \\overset { { f }_{ 2 } }{ \\longmapsto  } { z }_{ 2 }\\begin{Bmatrix} \\overset { { f }_{ 4 } }{ \\longmapsto  } { z }_{ 4 } \\\\ \\overset { { f }_{ 5 } }{ \\longmapsto  } { z }_{ 5 } \\end{Bmatrix} \\\\ \\overset { { f }_{ 3 } }{ \\longmapsto  } { z }_{ 3 }\\begin{Bmatrix} \\overset { { f }_{ 6 } }{ \\longmapsto  } { z }_{ 6 } \\\\ \\overset { { f }_{ 7 } }{ \\longmapsto  } { z }_{ 7 } \\\\ \\overset { { f }_{ 8 } }{ \\longmapsto  } { z }_{ 8 } \\end{Bmatrix} \\end{Bmatrix}\\overset {\\rm direct }{ \\underset {\\rm sum }{ \\longmapsto  }  } { z }_{ 9 }\\overset { { f }_{ 9 } }{ \\longmapsto  } { y }$$"
   ]
  },
  {
   "cell_type": "code",
   "execution_count": 3,
   "metadata": {},
   "outputs": [
    {
     "name": "stdout",
     "output_type": "stream",
     "text": [
      "__________________________________________________________________________________________________\n",
      "Layer (type)                    Output Shape         Param #     Connected to                     \n",
      "==================================================================================================\n",
      "input_1 (InputLayer)            (None, 784)          0                                            \n",
      "__________________________________________________________________________________________________\n",
      "dense_1 (Dense)                 (None, 520)          408200      input_1[0][0]                    \n",
      "__________________________________________________________________________________________________\n",
      "dense_2 (Dense)                 (None, 250)          130250      dense_1[0][0]                    \n",
      "__________________________________________________________________________________________________\n",
      "dense_3 (Dense)                 (None, 250)          130250      dense_1[0][0]                    \n",
      "__________________________________________________________________________________________________\n",
      "dense_4 (Dense)                 (None, 100)          25100       dense_2[0][0]                    \n",
      "__________________________________________________________________________________________________\n",
      "dense_5 (Dense)                 (None, 200)          50200       dense_2[0][0]                    \n",
      "__________________________________________________________________________________________________\n",
      "dense_6 (Dense)                 (None, 300)          75300       dense_3[0][0]                    \n",
      "__________________________________________________________________________________________________\n",
      "dense_7 (Dense)                 (None, 400)          100400      dense_3[0][0]                    \n",
      "__________________________________________________________________________________________________\n",
      "dense_8 (Dense)                 (None, 500)          125500      dense_3[0][0]                    \n",
      "__________________________________________________________________________________________________\n",
      "concatenate_1 (Concatenate)     (None, 1500)         0           dense_4[0][0]                    \n",
      "                                                                 dense_5[0][0]                    \n",
      "                                                                 dense_6[0][0]                    \n",
      "                                                                 dense_7[0][0]                    \n",
      "                                                                 dense_8[0][0]                    \n",
      "__________________________________________________________________________________________________\n",
      "dense_9 (Dense)                 (None, 10)           15010       concatenate_1[0][0]              \n",
      "==================================================================================================\n",
      "Total params: 1,060,210\n",
      "Trainable params: 1,060,210\n",
      "Non-trainable params: 0\n",
      "__________________________________________________________________________________________________\n"
     ]
    }
   ],
   "source": [
    "f1 = Dense(520, activation='relu')\n",
    "f2 = Dense(250, activation='relu')\n",
    "f3 = Dense(250, activation='relu')\n",
    "f4 = Dense(100, activation='relu')\n",
    "f5 = Dense(200, activation='relu')\n",
    "f6 = Dense(300, activation='relu')\n",
    "f7 = Dense(400, activation='relu')\n",
    "f8 = Dense(500, activation='relu')\n",
    "f9 = Dense(10, activation='softmax')\n",
    "\n",
    "x = Input(shape=(784,))\n",
    "z1 = f1(x)\n",
    "z2 = f2(z1)\n",
    "z3 = f3(z1)\n",
    "z4 = f4(z2)\n",
    "z5 = f5(z2)\n",
    "z6 = f6(z3)\n",
    "z7 = f7(z3)\n",
    "z8 = f8(z3)\n",
    "z9 = concatenate([z4,z5,z6,z7,z8])\n",
    "y = f9(z9)\n",
    "\n",
    "model = Model(x,y)\n",
    "model.summary()"
   ]
  },
  {
   "cell_type": "code",
   "execution_count": 4,
   "metadata": {},
   "outputs": [
    {
     "name": "stdout",
     "output_type": "stream",
     "text": [
      "Epoch 1/20\n",
      "60000/60000 [==============================] - 14s 238us/step - loss: 0.0119 - acc: 0.9197\n",
      "Epoch 2/20\n",
      "60000/60000 [==============================] - 13s 223us/step - loss: 0.0047 - acc: 0.9697\n",
      "Epoch 3/20\n",
      "60000/60000 [==============================] - 14s 239us/step - loss: 0.0037 - acc: 0.9768\n",
      "Epoch 4/20\n",
      "60000/60000 [==============================] - 14s 235us/step - loss: 0.0030 - acc: 0.9805\n",
      "Epoch 5/20\n",
      "60000/60000 [==============================] - 14s 231us/step - loss: 0.0023 - acc: 0.9859\n",
      "Epoch 6/20\n",
      "60000/60000 [==============================] - 14s 227us/step - loss: 0.0021 - acc: 0.9871\n",
      "Epoch 7/20\n",
      "60000/60000 [==============================] - 14s 229us/step - loss: 0.0019 - acc: 0.9886\n",
      "Epoch 8/20\n",
      "60000/60000 [==============================] - 15s 252us/step - loss: 0.0018 - acc: 0.9890\n",
      "Epoch 9/20\n",
      "60000/60000 [==============================] - 14s 236us/step - loss: 0.0016 - acc: 0.9900\n",
      "Epoch 10/20\n",
      "60000/60000 [==============================] - 14s 231us/step - loss: 0.0017 - acc: 0.9896\n",
      "Epoch 11/20\n",
      "60000/60000 [==============================] - 14s 237us/step - loss: 0.0016 - acc: 0.9902\n",
      "Epoch 12/20\n",
      "60000/60000 [==============================] - 15s 243us/step - loss: 0.0015 - acc: 0.9906\n",
      "Epoch 13/20\n",
      "60000/60000 [==============================] - 14s 240us/step - loss: 0.0014 - acc: 0.9914\n",
      "Epoch 14/20\n",
      "60000/60000 [==============================] - 15s 248us/step - loss: 0.0013 - acc: 0.9921\n",
      "Epoch 15/20\n",
      "60000/60000 [==============================] - 15s 253us/step - loss: 0.0016 - acc: 0.9908\n",
      "Epoch 16/20\n",
      "60000/60000 [==============================] - 15s 257us/step - loss: 0.0016 - acc: 0.9907\n",
      "Epoch 17/20\n",
      "60000/60000 [==============================] - 16s 262us/step - loss: 0.0014 - acc: 0.9920\n",
      "Epoch 18/20\n",
      "60000/60000 [==============================] - 15s 256us/step - loss: 0.0012 - acc: 0.9928\n",
      "Epoch 19/20\n",
      "60000/60000 [==============================] - 15s 255us/step - loss: 0.0011 - acc: 0.9938\n",
      "Epoch 20/20\n",
      "60000/60000 [==============================] - 15s 257us/step - loss: 0.0012 - acc: 0.9932\n"
     ]
    },
    {
     "data": {
      "text/plain": [
       "<keras.callbacks.History at 0xb2202e0b8>"
      ]
     },
     "execution_count": 4,
     "metadata": {},
     "output_type": "execute_result"
    }
   ],
   "source": [
    "model.compile(loss='mse', optimizer=Adam(), metrics=['acc'])\n",
    "model.fit(x_train, y_train, batch_size=200, epochs=20)"
   ]
  },
  {
   "cell_type": "code",
   "execution_count": 11,
   "metadata": {},
   "outputs": [
    {
     "name": "stdout",
     "output_type": "stream",
     "text": [
      "10000/10000 [==============================] - 1s 126us/step\n",
      "testing data 的正確率： 0.9804\n"
     ]
    }
   ],
   "source": [
    "predict = np.argmax(model.predict(x_test), axis=1)\n",
    "score = model.evaluate(x_test, y_test)\n",
    "print('testing data 的正確率：', score[1])"
   ]
  },
  {
   "cell_type": "markdown",
   "metadata": {},
   "source": [
    "# 看看哪些字寫得很醜"
   ]
  },
  {
   "cell_type": "code",
   "execution_count": 12,
   "metadata": {},
   "outputs": [
    {
     "data": {
      "image/png": "[encoded data removed]",
      "text/plain": [
       "<Figure size 800x400 with 10 Axes>"
      ]
     },
     "metadata": {
      "needs_background": "light"
     },
     "output_type": "display_data"
    }
   ],
   "source": [
    "fail_img = X_test[predict!=Y_test]\n",
    "fail_predict = predict[predict!=Y_test]\n",
    "correct_ans = Y_test[predict!=Y_test]\n",
    "\n",
    "idx = np.random.choice(range(fail_predict.size), size=10, replace=False) #隨機選10個預測錯誤的例子\n",
    "\n",
    "plt.figure(figsize=(10,5), dpi=80)\n",
    "for i in range(10):\n",
    "    plt.subplot(2,5,i+1)\n",
    "    plt.imshow(fail_img[idx[i]], cmap='Greys')\n",
    "    plt.title('Predict: %d\\nCorrect Ans: %d' %(fail_predict[idx[i]], correct_ans[idx[i]]))\n",
    "    \n",
    "plt.tight_layout()\n",
    "plt.show()"
   ]
  },
  {
   "cell_type": "code",
   "execution_count": null,
   "metadata": {},
   "outputs": [],
   "source": []
  }
 ],
 "metadata": {
  "kernelspec": {
   "display_name": "Python 3",
   "language": "python",
   "name": "python3"
  },
  "language_info": {
   "codemirror_mode": {
    "name": "ipython",
    "version": 3
   },
   "file_extension": ".py",
   "mimetype": "text/x-python",
   "name": "python",
   "nbconvert_exporter": "python",
   "pygments_lexer": "ipython3",
   "version": "3.6.8"
  }
 },
 "nbformat": 4,
 "nbformat_minor": 2
}
