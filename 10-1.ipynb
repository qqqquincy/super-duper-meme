{
 "cells": [
  {
   "cell_type": "code",
   "execution_count": 1,
   "metadata": {},
   "outputs": [
    {
     "name": "stderr",
     "output_type": "stream",
     "text": [
      "Using TensorFlow backend.\n"
     ]
    }
   ],
   "source": [
    "from keras.datasets import imdb\n",
    "from keras.preprocessing import sequence\n",
    "from keras.layers import Dense, Embedding, LSTM, Dropout\n",
    "from keras.models import Model\n",
    "from keras.layers import Input\n",
    "from keras.optimizers import Adam"
   ]
  },
  {
   "cell_type": "markdown",
   "metadata": {},
   "source": [
    "# 輸入資料整理"
   ]
  },
  {
   "cell_type": "code",
   "execution_count": 2,
   "metadata": {},
   "outputs": [
    {
     "name": "stdout",
     "output_type": "stream",
     "text": [
      "x_train.shape = (25000, 200)\n",
      "x_test.shape = (25000, 200)\n"
     ]
    }
   ],
   "source": [
    "(x_train,y_train), (x_test,y_test) = imdb.load_data(num_words=10000) \n",
    "#取最常出現的前10000種單字\n",
    "\n",
    "x_train = sequence.pad_sequences(x_train, maxlen=200) \n",
    "x_test = sequence.pad_sequences(x_test, maxlen=200)\n",
    "#每則評論都取前200個字來判斷\n",
    "\n",
    "print('x_train.shape =', x_train.shape)\n",
    "print('x_test.shape =', x_test.shape)"
   ]
  },
  {
   "cell_type": "markdown",
   "metadata": {},
   "source": [
    "# 利用 Functional API 建構 LSTM"
   ]
  },
  {
   "cell_type": "code",
   "execution_count": 3,
   "metadata": {},
   "outputs": [
    {
     "name": "stdout",
     "output_type": "stream",
     "text": [
      "_________________________________________________________________\n",
      "Layer (type)                 Output Shape              Param #   \n",
      "=================================================================\n",
      "input_1 (InputLayer)         (None, 200)               0         \n",
      "_________________________________________________________________\n",
      "embedding_1 (Embedding)      (None, 200, 20)           200000    \n",
      "_________________________________________________________________\n",
      "dropout_1 (Dropout)          (None, 200, 20)           0         \n",
      "_________________________________________________________________\n",
      "lstm_1 (LSTM)                (None, 10)                1240      \n",
      "_________________________________________________________________\n",
      "dropout_2 (Dropout)          (None, 10)                0         \n",
      "_________________________________________________________________\n",
      "dense_1 (Dense)              (None, 1)                 11        \n",
      "=================================================================\n",
      "Total params: 201,251\n",
      "Trainable params: 201,251\n",
      "Non-trainable params: 0\n",
      "_________________________________________________________________\n"
     ]
    }
   ],
   "source": [
    "Em = Embedding(10000,20)\n",
    "f1 = Dropout(0.5)\n",
    "f2 = LSTM(10)\n",
    "f3 = Dropout(0.5)\n",
    "f4 = Dense(1, activation='sigmoid')\n",
    "\n",
    "x = Input(shape=(200,))\n",
    "y = f4(f3(f2(f1(Em(x)))))\n",
    "\n",
    "model = Model(x,y)\n",
    "model.summary()"
   ]
  },
  {
   "cell_type": "code",
   "execution_count": 4,
   "metadata": {},
   "outputs": [
    {
     "name": "stdout",
     "output_type": "stream",
     "text": [
      "Epoch 1/5\n",
      "25000/25000 [==============================] - 27s 1ms/step - loss: 0.6723 - acc: 0.6018\n",
      "Epoch 2/5\n",
      "25000/25000 [==============================] - 25s 985us/step - loss: 0.4655 - acc: 0.8265\n",
      "Epoch 3/5\n",
      "25000/25000 [==============================] - 25s 988us/step - loss: 0.3322 - acc: 0.8824\n",
      "Epoch 4/5\n",
      "25000/25000 [==============================] - 24s 966us/step - loss: 0.2695 - acc: 0.9098\n",
      "Epoch 5/5\n",
      "25000/25000 [==============================] - 25s 983us/step - loss: 0.2345 - acc: 0.9237\n"
     ]
    },
    {
     "data": {
      "text/plain": [
       "<keras.callbacks.History at 0xb1fdce5f8>"
      ]
     },
     "execution_count": 4,
     "metadata": {},
     "output_type": "execute_result"
    }
   ],
   "source": [
    "model.compile(loss='binary_crossentropy', optimizer=Adam(), metrics=['acc']) \n",
    "model.fit(x_train, y_train, batch_size=200, epochs=5)"
   ]
  },
  {
   "cell_type": "code",
   "execution_count": 5,
   "metadata": {},
   "outputs": [
    {
     "name": "stdout",
     "output_type": "stream",
     "text": [
      "25000/25000 [==============================] - 25s 987us/step\n",
      "testing data 的正確率： 0.87252\n"
     ]
    }
   ],
   "source": [
    "score = model.evaluate(x_test, y_test)\n",
    "print('testing data 的正確率：', score[1])"
   ]
  },
  {
   "cell_type": "code",
   "execution_count": null,
   "metadata": {},
   "outputs": [],
   "source": []
  }
 ],
 "metadata": {
  "kernelspec": {
   "display_name": "Python 3",
   "language": "python",
   "name": "python3"
  },
  "language_info": {
   "codemirror_mode": {
    "name": "ipython",
    "version": 3
   },
   "file_extension": ".py",
   "mimetype": "text/x-python",
   "name": "python",
   "nbconvert_exporter": "python",
   "pygments_lexer": "ipython3",
   "version": "3.6.8"
  }
 },
 "nbformat": 4,
 "nbformat_minor": 2
}
